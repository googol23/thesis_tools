{
 "cells": [
  {
   "cell_type": "code",
   "execution_count": 1,
   "id": "6761d11d",
   "metadata": {},
   "outputs": [],
   "source": [
    "import re\n",
    "from glob import glob"
   ]
  },
  {
   "cell_type": "code",
   "execution_count": 2,
   "id": "9c2a4d4d",
   "metadata": {},
   "outputs": [],
   "source": [
    "tex_files = glob(\"../thesis/*/*\")\n",
    "tex_files = [f for f in tex_files if \".tex\" in f]"
   ]
  },
  {
   "cell_type": "code",
   "execution_count": 3,
   "id": "c55b4208",
   "metadata": {},
   "outputs": [],
   "source": [
    "all_tex_content = \"\"\n",
    "for tex_file in tex_files:\n",
    "    with open(tex_file, 'r', encoding='utf-8') as f:\n",
    "        all_tex_content += f.read()"
   ]
  },
  {
   "cell_type": "code",
   "execution_count": 4,
   "id": "48eee3c6",
   "metadata": {},
   "outputs": [],
   "source": [
    "list_of_labels = []\n",
    "list_of_refers = []\n",
    "\n",
    "list_of_labels = re.findall(r'\\\\label\\{([a-zA-Z]+:[^}]+)\\}', all_tex_content)\n",
    "list_of_refers = re.findall(r'\\\\ref\\{([a-zA-Z]+:[^}]+)\\}', all_tex_content)\n",
    "\n",
    "labels_not_used = []\n",
    "for label in list_of_labels:\n",
    "    if label not in list_of_refers:\n",
    "        labels_not_used.append(label)"
   ]
  },
  {
   "cell_type": "code",
   "execution_count": 5,
   "id": "9231f9d9",
   "metadata": {},
   "outputs": [
    {
     "name": "stdout",
     "output_type": "stream",
     "text": [
      "['chp:intro', 'sec:cbm_fair', 'sec:phy_requirements', 'sec:magnet', 'sec:cbm_detectors', 'sec:mvd', 'sec:sts', 'sec:rich', 'sec:much', 'sec:trd', 'sec:tof', 'sec:fsd', 'sec:operation_mode', 'fig:sts_in_magnet', 'fig:sts_module', 'fig:sts_module_parts', 'fig:digi_rates', 'eqt:beam_ion_velocity', 'fig:time_walk_0', 'fig:cal_and_res', 'fig:cluster_size_vs_charge_all0', 'fig:cluster_size_vs_charge_all1', 'fig:cluster_size_vs_charge_hit0', 'fig:cluster_size_vs_charge_hit1', 'fig:cluster_size_vs_dt_0', 'fig:cluster_size_vs_dt_1', 'fig:cluster_charge_vs_dt_0', 'fig:cluster_charge_vs_dt_1', 'fig:hit_np_vs_nn_all', 'fig:hit_np_vs_nn_trk', 'fig:hit_qp_vs_qn_all', 'fig:hit_qp_vs_qn_trk', 'fig:rec_hit_0', 'fig:rec_hit_1', 'fig:rec_hit_2', 'fig:mc_pt_vs_y', 'fig:mc_tta_vs_phi', 'fig:mc_pt_vs_y_sts', 'fig:mc_tta_vs_phi_sts', 'sec:mc', 'sec:tsa', 'sec:unpacker', 'fig:pull_x', 'fig:pull_y', 'sec:tracking', 'fig:pull_tx', 'fig:pull_ty', 'fig:eb_no_overlap', 'fig:eb_overlap', 'tab:eb_configuration', 'fig:xx_correlation', 'fig:yy_correlation', 'fig:mc_correlation_xx', 'fig:mc_correlation_yy', 'fig:correlation_proj_xx', 'fig:correlation_proj_yy', 'fig:dummy_ideal_corr', 'fig:ca_residual_dx_vs_x:fit', 'fig:ca_residual_dx_vs_y:fit', 'fig:ca_residual_dy_vs_x:fit', 'fig:ca_residual_dy_vs_y:fit', 'fig:sts_residual_dx_vs_x_2d', 'fig:sts_residual_dx_vs_y_2d', 'fig:sts_residual_dy_vs_x_2d', 'fig:sts_residual_dy_vs_y_2d', 'fig:sts_residual_dx_vs_x:fit', 'fig:sts_residual_dx_vs_y:fit', 'fig:sts_residual_dy_vs_x:fit', 'fig:sts_residual_dy_vs_y:fit', 'fig:mc_sigma_ms', 'fig:bias_absorption', 'fig:bias_fake_track', 'fig:eff_plots', 'fig:mcbm_target_chamber', 'fig:beam_spot_scan_mean', 'fig:beam_spot_scan_sigma', 'fig:cave_tomography', 'sec:3d_vtx_rec', 'fig:sec_trk_vtx_mc_xoy', 'fig:sec_trk_vtx_mc_zox', 'fig:vertex_pca_xoy', 'fig:vertex_pca_zox', 'sec:sis18', 'sec:fles', 'sec:mcbm_target', 'fig:mcbm_target_chamber_cad', 'sec:mbmon', 'sec:mMuch', 'sec:mTrd', 'sec:mTof', 'sec:mrich', 'fig:cad_msts_box', 'fig:cad_msts_sensors', 'fig:enter-label', 'app:software', 'fig:correlation_map_x_u0u1', 'fig:correlation_map_y_u0u1', 'fig:correlation_map_x_u0u2', 'fig:correlation_map_y_u0u2', 'fig:correlation_map_x_u1u2', 'fig:correlation_map_y_u1u2', 'fig:vtx_residual:sts2trd-tof-', 'fig:vtx_sts2trd1tof-', 'fig:vtx_sts2trd2tof-', 'fig:vtx_sts2trd3tof-', 'fig:vtx_sts2trd-tof1', 'fig:vtx_sts2trd-tof2', 'fig:vtx_sts2trd-tof3', 'apendix:module_testing', 'fig:charge_vs_channel_sts_0', 'fig:charge_vs_channel_sts_1']\n"
     ]
    }
   ],
   "source": [
    "labels_not_used = []\n",
    "for label in list_of_labels:\n",
    "    if label not in list_of_refers:\n",
    "        labels_not_used.append(label)\n",
    "print(labels_not_used)"
   ]
  },
  {
   "cell_type": "code",
   "execution_count": 6,
   "id": "ae172b31",
   "metadata": {},
   "outputs": [
    {
     "name": "stdout",
     "output_type": "stream",
     "text": [
      "['fig:pca_dca_100um', 'eqt:sigma_dx']\n"
     ]
    }
   ],
   "source": [
    "refers_not_defined = []\n",
    "for label in list_of_refers:\n",
    "    if label not in list_of_labels:\n",
    "        refers_not_defined.append(label)\n",
    "print(refers_not_defined)"
   ]
  },
  {
   "cell_type": "code",
   "execution_count": null,
   "id": "026991de",
   "metadata": {},
   "outputs": [],
   "source": []
  }
 ],
 "metadata": {
  "kernelspec": {
   "display_name": "Python 3",
   "language": "python",
   "name": "python3"
  },
  "language_info": {
   "codemirror_mode": {
    "name": "ipython",
    "version": 3
   },
   "file_extension": ".py",
   "mimetype": "text/x-python",
   "name": "python",
   "nbconvert_exporter": "python",
   "pygments_lexer": "ipython3",
   "version": "3.8.10"
  }
 },
 "nbformat": 4,
 "nbformat_minor": 5
}
