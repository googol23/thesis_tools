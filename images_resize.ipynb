{
 "cells": [
  {
   "cell_type": "code",
   "execution_count": 30,
   "id": "7e8c829c",
   "metadata": {},
   "outputs": [],
   "source": [
    "from PIL import Image\n",
    "from glob import glob\n",
    "import os"
   ]
  },
  {
   "cell_type": "code",
   "execution_count": 5,
   "id": "40e80920",
   "metadata": {},
   "outputs": [
    {
     "name": "stdout",
     "output_type": "stream",
     "text": [
      "['images/correlation/dummy_sts_XX.png', 'images/correlation/Sts0\\uf03aSts1_p_YY.png', 'images/correlation/U0\\uf03aU1_map_XX_exp.png', 'images/correlation/Sts0\\uf03aSts1_XX_ideal.png', 'images/correlation/dummy_real_YY.png', 'images/correlation/U1 L0 M0 \\uf03aU2 L1 M0 _YY.png', 'images/correlation/dummy_real_XX.png', 'images/correlation/dummy_real_Sts0\\uf03aSts1_p_XX_fit.png', 'images/correlation/correlation_map_YY.png', 'images/correlation/Sts0\\uf03aSts1.png', 'images/correlation/U1\\uf03aU2_map_XX_exp.png', 'images/correlation/Sts0\\uf03aSts1_YY_sts.png', 'images/correlation/dummy_sts_Sts0\\uf03aSts1_p_XX_fit.png', 'images/correlation/U0\\uf03aU2_map_XX_exp.png', 'images/correlation/Sts0\\uf03aSts1_MC.png', 'images/correlation/dummy_ideal_XX.png', 'images/correlation/correlation_map_XX.png', 'images/correlation/U1\\uf03aU2_map_YY_exp.png', 'images/correlation/dummy_ideal_Sts0\\uf03aSts1_p_XX_fit.png', 'images/correlation/Sts1\\uf03aSts2_YY_ref.png', 'images/correlation/U1 L0 M0 \\uf03aU2 L1 M0 _XX.png', 'images/correlation/Sts0\\uf03aSts1_YY_real.png', 'images/correlation/Sts0\\uf03aSts1_XX_sts.png', 'images/correlation/dummy_sts_YY.png', 'images/correlation/Sts1\\uf03aSts2_XX_ref.png', 'images/correlation/U0\\uf03aU1_map_YY_exp.png', 'images/correlation/Sts0\\uf03aSts1_YY_ideal.png', 'images/correlation/Sts0\\uf03aSts1_XX_real.png', 'images/correlation/dummy_ideal_YY.png', 'images/correlation/Sts0\\uf03aSts1_p_XX.png', 'images/correlation/U0\\uf03aU2_map_YY_exp.png', 'images/chapter_00_intro/rare_probes_yields.png', 'images/chapter_00_intro/sts_3+5.png', 'images/chapter_00_intro/sts_half_unit.png', 'images/chapter_00_intro/sts_sensor.png', 'images/chapter_00_intro/sts_inside_magnet.png', 'images/chapter_00_intro/cbm_layout.png', 'images/chapter_00_intro/yields.png', 'images/chapter_00_intro/empty.png', 'images/chapter_00_intro/rate_vs_sqrt(s_NN).png', 'images/chapter_00_intro/sts_microcable.png', 'images/efficiency/sts_station_1_1.png', 'images/efficiency/sts_station_1_0.png', 'images/efficiency/U1_eff_vs_thr.png', 'images/efficiency/0x10008412_eff_vs_thr.png', 'images/chapter_01/thr_dispersion.png', 'images/chapter_01/trg_chamber_station.png', 'images/chapter_01/ENC.png', 'images/chapter_01/mcbm2022_05_25_spill_sample.png', 'images/chapter_01/trg_station.png', 'images/chapter_01/trg_chamber.png', 'images/chapter_01/gain_linearity.png', 'images/chapter_01/target_ladder.png', 'images/chapter_01/gain.png', 'images/beam_spot/U0\\uf03aU2_map_Ni.png', 'images/beam_spot/U0\\uf03aU2_Ni_prj.png', 'images/beam_spot/cave.png', 'images/beam_spot/cave_mcbm_beam_2022_05_23_nickel.png', 'images/beam_spot/bs_residuals.png', 'images/beam_spot/cave_mcbm_beam_2024_05_08_nickel_-1deg.png', 'images/beam_spot/cave_mcbm_beam_2024_05_08_nickel.png', 'images/beam_spot/cave_mcbm_beam_2024_05_08_nickel_0deg.png', 'images/beam_spot/bmon_channel.png', 'images/beam_spot/cave_mcbm_beam_2022_05_23_nickel_0deg.png', 'images/beam_spot/beam_x.png', 'images/beam_spot/U1\\uf03aU2_map_Ni.png', 'images/beam_spot/U0\\uf03aU1_Ni_prj.png', 'images/beam_spot/U0\\uf03aU1_map_Ni.png', 'images/beam_spot/U1\\uf03aU2_Ni_prj.png', 'images/appendix_04/sts2_trd-_tof-_vertex_y_vs_x.png', 'images/appendix_04/sts2_trd-_tof3_vertex_x_vs_z.png', 'images/appendix_04/sts2_trd-_tof2_vertex_y_vs_z.png', 'images/appendix_04/sts2_trd-_tof1_vertex_y_vs_x.png', 'images/appendix_04/sts2_trd-_tof-_vertex_x_vs_z.png', 'images/appendix_04/sts2_trd3_tof-_vertex_y_vs_z.png', 'images/appendix_04/sts2_trd-_tof3_vertex_y_vs_x.png', 'images/appendix_04/sts2_trd-_tof3_vertex_y_vs_z.png', 'images/appendix_04/sts2_trd-_tof1_vertex_y_vs_z.png', 'images/appendix_04/sts2_trd2_tof-_vertex_x_vs_z.png', 'images/appendix_04/sts2_trd2_tof-_vertex_y_vs_z.png', 'images/appendix_04/sts2_trd-_tof-_vertex_y_vs_z.png', 'images/appendix_04/sts2_trd-_tof1_vertex_x_vs_z.png', 'images/appendix_04/sts2_trd1_tof-_vertex_y_vs_x.png', 'images/appendix_04/sts2_trd1_tof-_vertex_x_vs_z.png', 'images/appendix_04/sts2_trd3_tof-_vertex_x_vs_z.png', 'images/appendix_04/sts2_trd3_tof-_vertex_y_vs_x.png', 'images/appendix_04/sts2_trd1_tof-_vertex_y_vs_z.png', 'images/appendix_04/sts2_trd-_tof2_vertex_y_vs_x.png', 'images/appendix_04/sts2_trd-_tof2_vertex_x_vs_z.png', 'images/appendix_04/sts2_trd2_tof-_vertex_y_vs_x.png', 'images/vertex/sts2_trd-_tof-_dca_0.050_dca_dz_vs_z.png', 'images/vertex/sts2_trd-_tof-_dca_0.030_dca_dx_vs_x.png', 'images/vertex/sts2_trd-_tof-_dca_0.500_dca_dz_vs_y.png', 'images/vertex/sts2_trd-_tof-_dca_0.050_dca_dx_vs_x.png', 'images/vertex/sts2_trd-_tof-_dca_0.010_pca_x_vs_z.png', 'images/vertex/sts2_trd-_tof-_dca_0.050_dca_dy_vs_z.png', 'images/vertex/sec_trk_vertex_y_vs_z.png', 'images/vertex/sts2_trd-_tof-_dca_0.030_vertex_y_vs_z\\uf03az_proj.png', 'images/vertex/sts2_trd-_tof-_dca_0.050_dca_dy_vs_x.png', 'images/vertex/sts2_trd-_tof-_dca_0.500_dca_dx_vs_z.png', 'images/vertex/sts2_trd-_tof-_dca_0.250_pca_y_vs_z.png', 'images/vertex/sts2_trd-_tof-_dca_0.500_dca_dz_vs_x.png', 'images/vertex/sts2_trd-_tof-_dca_0.010_dca_dz_vs_y.png', 'images/vertex/pca_cave.png', 'images/vertex/sts2_trd-_tof-_dca_0.250_dca_dz_vs_y.png', 'images/vertex/sts2_trd-_tof-_dca_0.500_vertex_x_vs_z\\uf03az_proj.png', 'images/vertex/sts2_trd-_tof-_dca_0.050\\uf03avertex\\uf03az_proj.png', 'images/vertex/sts2_trd-_tof-_dca_0.050_dca_dy_vs_y.png', 'images/vertex/sts2_trd-_tof-_dca_0.500_dca_dx_vs_x.png', 'images/vertex/sts2_trd-_tof-_dca_0.050_vertex_y_vs_z.png', 'images/vertex/sts2_trd-_tof-_dca_0.500_vertex_y_vs_z.png', 'images/vertex/sts2_trd-_tof-_dca_0.050_pca_y_vs_z.png', 'images/vertex/sts2_trd-_tof-_dca_0.030\\uf03avertex\\uf03az_proj.png', 'images/vertex/sts2_trd-_tof-_dca_0.010_dca_dy_vs_z.png', 'images/vertex/sts2_trd-_tof-_dca_0.250_dca_dy_vs_z.png', 'images/vertex/sts2_trd-_tof-_dca_0.500_vertex_x_vs_z.png', 'images/vertex/sts2_trd-_tof-_dca_0.030_vertex_x_vs_z.png', 'images/vertex/sts2_trd-_tof-_dca_0.030_pca_y_vs_x.png', 'images/vertex/sts2_trd-_tof-_dca_0.500_dca_dz_vs_z.png', 'images/vertex/sts2_trd-_tof-_dca_0.500_dca_dy_vs_y.png', 'images/vertex/sts2_trd-_tof-_dca_0.010_vertex_x_vs_z\\uf03az_proj.png', 'images/vertex/sts2_trd-_tof-_dca_0.050_dca_dz_vs_y.png', 'images/vertex/sts2_trd-_tof-_dca_0.010\\uf03avertex\\uf03az_proj.png', 'images/vertex/sts2_trd-_tof-_dca_0.050_dca_dx_vs_y.png', 'images/vertex/sts2_trd-_tof-_dca_0.010_dca_dx_vs_x.png', 'images/vertex/sts2_trd-_tof-_dca_0.250_vertex_y_vs_x.png', 'images/vertex/sts2_trd-_tof-_dca_0.010_pca_y_vs_z.png', 'images/vertex/sts2_trd-_tof-_dca_0.250_pca_y_vs_x.png', 'images/vertex/sts2_trd-_tof-_dca_0.010_vertex_y_vs_z\\uf03az_proj.png', 'images/vertex/sts2_trd-_tof-_dca_0.030_dca_dy_vs_x.png', 'images/vertex/sts2_trd-_tof-_dca_0.050_vertex_x_vs_z\\uf03az_proj.png', 'images/vertex/sts2_trd-_tof-_dca_0.250_dca_dx_vs_x.png', 'images/vertex/sts3_trd-_tof-_dca_0.500\\uf03adca_z\\uf03acompare_to_mc.png', 'images/vertex/sts2_trd-_tof-_dca_0.030_dca_dz_vs_z.png', 'images/vertex/sts2_trd-_tof-_dca_0.030_vertex_y_vs_x.png', 'images/vertex/sts2_trd-_tof-_dca_0.010_vertex_x_vs_z.png', 'images/vertex/sec_trk_vertex_x_vs_z.png', 'images/vertex/sts2_trd-_tof-_dca_0.500_vertex_y_vs_x.png', 'images/vertex/sts2_trd-_tof-_dca_0.030_vertex_y_vs_z.png', 'images/vertex/sts2_trd-_tof-_dca_0.050_dca_dx_vs_z.png', 'images/vertex/sts3_trd-_tof-_dca_0.010_vertex_y_vs_x_prj.png', 'images/vertex/sts2_trd-_tof-_dca_0.050_vertex_y_vs_z\\uf03az_proj.png', 'images/vertex/sts2_trd-_tof-_dca_0.500_vertex_y_vs_z\\uf03az_proj.png', 'images/vertex/sts2_trd-_tof-_dca_0.030_pca_x_vs_z.png', 'images/vertex/sts2_trd-_tof-_dca_0.030_dca_dz_vs_y.png', 'images/vertex/sts3_trd-_tof-_dca_0.500\\uf03adca_x\\uf03acompare_to_mc.png', 'images/vertex/sts2_trd-_tof-_dca_0.030_dca_dx_vs_z.png', 'images/vertex/sts2_trd-_tof-_dca_0.250_dca_dy_vs_x.png', 'images/vertex/sts2_trd-_tof-_dca_0.500_dca_dx_vs_y.png', 'images/vertex/sts2_trd-_tof-_dca_0.010_dca_dy_vs_x.png', 'images/vertex/sts2_trd-_tof-_dca_0.250_vertex_x_vs_z.png', 'images/vertex/sts2_trd-_tof-_dca_0.500\\uf03avertex\\uf03az_proj.png', 'images/vertex/sts2_trd-_tof-_dca_0.030_dca_dz_vs_x.png', 'images/vertex/sts2_trd-_tof-_dca_0.500_pca_y_vs_z.png', 'images/vertex/sts2_trd-_tof-_dca_0.250_dca_dx_vs_z.png', 'images/vertex/sts2_trd-_tof-_dca_0.050_vertex_x_vs_z.png', 'images/vertex/sts2_trd-_tof-_dca_0.250_dca_dz_vs_x.png', 'images/vertex/sts2_trd-_tof-_dca_0.500_dca_dy_vs_x.png', 'images/vertex/sts2_trd-_tof-_dca_0.250\\uf03avertex\\uf03az_proj.png', 'images/vertex/sts2_trd-_tof-_dca_0.500_pca_y_vs_x.png', 'images/vertex/sts2_trd-_tof-_dca_0.250_dca_dz_vs_z.png', 'images/vertex/sts2_trd-_tof-_dca_0.010_vertex_y_vs_z.png', 'images/vertex/sts2_trd-_tof-_dca_0.250_dca_dy_vs_y.png', 'images/vertex/sts3_trd-_tof-_dca_0.010_vertex_y_vs_x_fit.png', 'images/vertex/sts2_trd-_tof-_dca_0.010_vertex_y_vs_x.png', 'images/vertex/sts2_trd-_tof-_dca_0.030_dca_dy_vs_y.png', 'images/vertex/sts2_trd-_tof-_dca_0.050_pca_x_vs_z.png', 'images/vertex/sts2_trd-_tof-_dca_0.010_dca_dx_vs_y.png', 'images/vertex/sts3_trd-_tof-_dca_0.500\\uf03adca_y\\uf03acompare_to_mc.png', 'images/vertex/sts2_trd-_tof-_dca_0.010_pca_y_vs_x.png', 'images/vertex/sts2_trd-_tof-_dca_0.250_vertex_y_vs_z\\uf03az_proj.png', 'images/vertex/sts2_trd-_tof-_dca_0.050_pca_y_vs_x.png', 'images/vertex/sts2_trd-_tof-_dca_0.030_dca_dx_vs_y.png', 'images/vertex/sts2_trd-_tof-_dca_0.250_vertex_x_vs_z\\uf03az_proj.png', 'images/vertex/sts2_trd-_tof-_dca_0.250_dca_dx_vs_y.png', 'images/vertex/sts2_trd-_tof-_dca_0.250_pca_x_vs_z.png', 'images/vertex/sts2_trd-_tof-_dca_0.050_dca_dz_vs_x.png', 'images/vertex/sts2_trd-_tof-_dca_0.500_pca_x_vs_z.png', 'images/vertex/sts2_trd-_tof-_dca_0.010_dca_dx_vs_z.png', 'images/vertex/sts2_trd-_tof-_dca_0.010_dca_dz_vs_x.png', 'images/vertex/sts2_trd-_tof-_dca_0.250_vertex_y_vs_z.png', 'images/vertex/sec_trk_vertex_y_vs_x.png', 'images/vertex/sts2_trd-_tof-_dca_0.030_pca_y_vs_z.png', 'images/vertex/sts2_trd-_tof-_dca_0.500_dca_dy_vs_z.png', 'images/vertex/sts2_trd-_tof-_dca_0.050_vertex_y_vs_x.png', 'images/vertex/pri_trk_vertex_x_vs_z.png', 'images/vertex/sts2_trd-_tof-_dca_0.010_dca_dz_vs_z.png', 'images/vertex/sts2_trd-_tof-_dca_0.030_dca_dy_vs_z.png', 'images/vertex/pri_trk_vertex_y_vs_x.png', 'images/vertex/sts2_trd-_tof-_dca_0.010_dca_dy_vs_y.png', 'images/vertex/sts2_trd-_tof-_dca_0.030_vertex_x_vs_z\\uf03az_proj.png', 'images/chapter_04/ca2_sts2trd-tof-_vertex_x_vs_z.png', 'images/chapter_04/10008402\\uf03a10008812_mean.png', 'images/chapter_04/z_planes.png', 'images/chapter_04/bs_residuals.png', 'images/chapter_04/vertex_residual_dz.png', 'images/chapter_04/vertex_residual_dx.png', 'images/chapter_04/ca_track_multiplicity.png', 'images/chapter_04/bmon_channel.png', 'images/chapter_04/beam_x.png', 'images/chapter_04/ca2_sts2trd-tof-_vertex_y_vs_z.png', 'images/chapter_04/spread.png', 'images/chapter_04/ni_beam_spot.png', 'images/chapter_04/gradient.png', 'images/chapter_04/10008402\\uf03a10008812_sigma.png', 'images/chapter_04/ni_beam_spot_map.png', 'images/chapter_04/vertex_residual_dy.png', 'images/qa/pull_x.png', 'images/qa/track_pull_tx.png', 'images/qa/hit_pull_y.png', 'images/qa/track_res_tx.png', 'images/qa/res_x.png', 'images/qa/pull_tx.png', 'images/qa/hit_pull_x.png', 'images/qa/hit_res_y.png', 'images/qa/track_pull_ty.png', 'images/qa/track_res_ty.png', 'images/qa/hit_res_x.png', 'images/qa/res_tx.png', 'images/monte_carlo/multiplicity_and_sigma_ms.png', 'images/monte_carlo/tof_2212.png', 'images/monte_carlo/v_vs_phi_2212.png', 'images/monte_carlo/velocity_2212.png', 'images/monte_carlo/mc_toa_2212.png', 'images/monte_carlo/MCTrack_pt_vs_y.png', 'images/monte_carlo/MCTrack_pt_vs_y_Sts.png', 'images/monte_carlo/MCTrack_theta_vs_phi_Sts.png', 'images/monte_carlo/urqmd_particle_multiplicity.png', 'images/monte_carlo/MCTrack_theta_vs_phi.png', 'images/monte_carlo/mc_toa_211.png', 'images/monte_carlo/v_vs_theta_2212.png', 'images/chapter_02/0x10008412_on_off_spill.png', 'images/chapter_02/0x10008402_ASIC_13_merged_plot.png', 'images/chapter_02/0x10008402_charge_vs_channel.png', 'images/chapter_02/0x10018012_charge_vs_channel.png', 'images/chapter_02/charge_vs_channel_sts_0.png', 'images/chapter_02/digi_rate.png', 'images/chapter_02/0x10008002_charge_vs_channel_bad.png', 'images/chapter_02/0x10018002_charge_vs_channel.png', 'images/chapter_02/0x10018402_charge_vs_channel.png', 'images/chapter_02/0x10008012_charge_vs_channel.png', 'images/chapter_02/0x10028812_charge_vs_channel.png', 'images/chapter_02/0x10008412_S_B.png', 'images/chapter_02/0x10008402_ASIC_13_1.png', 'images/chapter_02/0x10008812_charge_vs_channel.png', 'images/chapter_02/0x10018412_on_off_spill.png', 'images/chapter_02/0x10018412_S_B.png', 'images/chapter_02/time_cal_evo.png', 'images/chapter_02/0x10018812_charge_vs_channel.png', 'images/chapter_02/enc_charge_vs_channel.png', 'images/chapter_02/0x10008402_ASIC_13_0.png', 'images/chapter_02/U1 L1 M0 _11\\uf03a0.png', 'images/chapter_02/0x10008412_charge_vs_channel.png', 'images/chapter_02/0x10018412_charge_vs_channel.png', 'images/chapter_02/0x10008002_charge_vs_channel.png', 'images/chapter_02/U1 L1 M0 _11\\uf03a1.png', 'images/chapter_02/charge_vs_channel_sts_1.png']\n"
     ]
    }
   ],
   "source": [
    "images_list = glob(\"images/*/*.png\")\n",
    "print(images_list)"
   ]
  },
  {
   "cell_type": "code",
   "execution_count": 44,
   "id": "a268bcc2",
   "metadata": {},
   "outputs": [
    {
     "name": "stdout",
     "output_type": "stream",
     "text": [
      "DPI: 674\t[17276 x 5732]\t->\t[11534 x 3827]\t\t5.90 MB\timages/correlation/U0U2_map_XX_exp.png\n"
     ]
    }
   ],
   "source": [
    "page_size = 8.5, 11 # inches\n",
    "target_dpi = 450\n",
    "\n",
    "output_folder = \"images_resized\"\n",
    "Image.MAX_IMAGE_PIXELS = 200_000_000\n",
    "for img_path in images_list:\n",
    "    img = Image.open(img_path)\n",
    "    original_dpi = int(min(img.width, img.height) / page_size[0])\n",
    "    if original_dpi > 600:\n",
    "\n",
    "        # Resize by percentage (e.g., 50% smaller)\n",
    "        ratio = target_dpi / original_dpi\n",
    "        new_width = int(img.width * ratio)\n",
    "        new_height = int(img.height * ratio)\n",
    "\n",
    "        size_bytes = os.path.getsize(img_path)\n",
    "        size_mb = size_bytes / (1024 * 1024)\n",
    "        print(f\"DPI: {original_dpi}\\t[{img.width} x {img.height}]\\t->\\t[{new_width} x {new_height}]\\t\\t{size_mb:.2f} MB\\t{img_path}\")\n",
    "\n",
    "        resized_img = img.resize((new_width, new_height), Image.Resampling.LANCZOS)\n",
    "\n",
    "        # Save to a new file (or overwrite)\n",
    "        os.makedirs(f\"{output_folder}/{os.path.dirname(img_path)}\", exist_ok=True)\n",
    "        resized_img.save(f'{output_folder}/{img_path}')"
   ]
  },
  {
   "cell_type": "code",
   "execution_count": null,
   "id": "a4f090d0",
   "metadata": {},
   "outputs": [],
   "source": []
  }
 ],
 "metadata": {
  "kernelspec": {
   "display_name": "Python 3",
   "language": "python",
   "name": "python3"
  },
  "language_info": {
   "codemirror_mode": {
    "name": "ipython",
    "version": 3
   },
   "file_extension": ".py",
   "mimetype": "text/x-python",
   "name": "python",
   "nbconvert_exporter": "python",
   "pygments_lexer": "ipython3",
   "version": "3.8.10"
  }
 },
 "nbformat": 4,
 "nbformat_minor": 5
}
